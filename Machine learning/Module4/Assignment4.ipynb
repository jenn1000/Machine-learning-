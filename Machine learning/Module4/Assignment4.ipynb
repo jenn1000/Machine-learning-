{
 "cells": [
  {
   "cell_type": "code",
   "execution_count": 1,
   "id": "c20bb39f",
   "metadata": {},
   "outputs": [],
   "source": [
    "import numpy as np\n",
    "from urllib.request import urlopen\n",
    "from tqdm import tqdm\n",
    "import os.path\n",
    "import time"
   ]
  },
  {
   "cell_type": "code",
   "execution_count": 2,
   "id": "e23710ea",
   "metadata": {},
   "outputs": [
    {
     "name": "stdout",
     "output_type": "stream",
     "text": [
      "Loading cached data...done (8sec)\n"
     ]
    }
   ],
   "source": [
    "class AlignedEmbeddingLoader(object):\n",
    "    def __init__(self, lang='en'):\n",
    "        self._dataurl = f\"https://dl.fbaipublicfiles.com/fasttext/vectors-aligned/wiki.{lang}.align.vec\"\n",
    "        cachefile = \"cache_%s.npz\" % lang\n",
    "        if os.path.exists(cachefile):\n",
    "            print(\"Loading cached data...\", end=\"\")\n",
    "            t = time.time()\n",
    "            data = np.load(cachefile)\n",
    "            self.idx2token_ = list(data['idx2token'])\n",
    "            self.vectors_ = data['vectors']\n",
    "            print(\"done (%isec)\" % (time.time()-t), flush=True)\n",
    "        else:\n",
    "            with urlopen(self._dataurl) as remote_file:\n",
    "                get_decoded_line = lambda file: file.readline().decode('utf-8')\n",
    "                self.n_tokens, self.n_dim = [int(n) for n in get_decoded_line(remote_file).split()]\n",
    "                self.idx2token_ = list()\n",
    "                self.vectors_ = np.zeros((self.n_tokens, self.n_dim), dtype=np.float32)\n",
    "                for n in tqdm(range(self.vectors_.shape[0]), desc=\"Downloading and parsing vectors\"):\n",
    "                    textline = get_decoded_line(remote_file)\n",
    "                    linedata = textline.split(' ')\n",
    "                    self.idx2token_.append(linedata[0])\n",
    "                    self.vectors_[n, :] = np.asarray(linedata[1:], dtype=np.float32)\n",
    "            np.savez(cachefile, vectors=self.vectors_, idx2token=self.idx2token_)\n",
    "        self.token2idx_ = {token:i for i, token in enumerate(self.idx2token_)}\n",
    "\n",
    "loaded_embedding = AlignedEmbeddingLoader('en')"
   ]
  },
  {
   "cell_type": "code",
   "execution_count": 3,
   "id": "07f97c57",
   "metadata": {},
   "outputs": [],
   "source": [
    "from sklearn.metrics.pairwise import cosine_similarity, euclidean_distances\n",
    "\n",
    "class EmbeddingAnalyzer(object):\n",
    "    def __init__(self, embedding):\n",
    "        self.vectors_ = embedding.vectors_\n",
    "        self.token2idx_ = embedding.token2idx_\n",
    "        self.idx2token_ = embedding.idx2token_\n",
    "\n",
    "    def __len__(self):\n",
    "        return len(self.vectors_)\n",
    "\n",
    "    def __getitem__(self, tokens):\n",
    "        token_list = []\n",
    "        \n",
    "        if type(tokens) == str:                         # e.g. tokens type: 'man'\n",
    "            return self.vectors_[self.token2idx_[tokens]]\n",
    "                    \n",
    "        elif type(tokens) == list:                      # e.g. tokens type: ['man', 'woman']\n",
    "            for t in tokens:\n",
    "                for token in self.token2idx_:\n",
    "                    if t == token:\n",
    "                        token_list.append(self.token2idx_[token])                        \n",
    "            \n",
    "            for i, num in enumerate(token_list):\n",
    "                token_list[i] = self.vectors_[num]\n",
    "                \n",
    "            return np.array(token_list)\n",
    "\n",
    "\n",
    "    def __contains__(self, token):        \n",
    "        if type(token) == str:\n",
    "            \n",
    "            if token in self.token2idx_:\n",
    "                return True\n",
    "            else:\n",
    "                return False\n",
    "            \n",
    "        elif type(token) == list:\n",
    "            \n",
    "            for t in token:\n",
    "                if t not in self.token2idx_:\n",
    "                    return False\n",
    "                \n",
    "            return True\n",
    "\n",
    "\n",
    "    def projection(self, direction, vectors):  \n",
    "        return np.dot(vectors, direction) / (np.linalg.norm(vectors) * np.linalg.norm(direction))\n",
    "\n",
    "    def simple_analogy(self, pair, query, k=5):\n",
    "        from sklearn.metrics.pairwise import pairwise_distances\n",
    "\n",
    "        x1_vec = self[pair[0]]\n",
    "        x2_vec = self[pair[1]]\n",
    "        y1_vec = self[query]\n",
    "        V = x2_vec - x1_vec + y1_vec\n",
    "        distance = pairwise_distances(V.reshape(1,len(self.vectors_[0])), self.vectors_, metric='l2').reshape(len(self))\n",
    "        ids = distance.argsort()[:k+1]\n",
    "        words = [self.idx2token_[idm] for idm in ids]\n",
    "        best = [word for word in words if word not in (pair[0], pair[1], query)]\n",
    "        return best \n",
    "        \n",
    "\n",
    "    def similarity(self, token1, token2):\n",
    "        token1 = self[token1]\n",
    "        token2 = self[token2]\n",
    "        return np.dot(token1, token2) / (np.linalg.norm(token1) * np.linalg.norm(token2))\n",
    "\n",
    "    def analogies(self, analogy_direction, tokens):\n",
    "        \n",
    "        '''\n",
    "        This part took the most time to make the data sorted as the instruction said, which I think it was unnecessarily tricky for me.\n",
    "        Other than that, this assignment was very interesting and fairly easy compared to other assignment. \n",
    "        Thanks to this assignment, I'm now very interested in bias research and want to work more on related areas!\n",
    "        '''\n",
    "        \n",
    "        from itertools import permutations\n",
    "        from collections import defaultdict\n",
    "    \n",
    "        lst = []\n",
    "        lst2 = []\n",
    "        d = defaultdict(list)\n",
    "        \n",
    "        for x, y in permutations(tokens,2):\n",
    "            if np.linalg.norm(analyzer[x]-analyzer[y]) <= 1:\n",
    "                a = analyzer.projection(analogy_direction, analyzer[x]-analyzer[y])\n",
    "                if np.isnan(a) == False and a > 0:\n",
    "                    lst.append((x,y,a))\n",
    "                                       \n",
    "        for x, y, num in lst:\n",
    "            d[x].append((num))\n",
    "        \n",
    "        res = list(zip(d, map(max, d.values())))\n",
    "     \n",
    "        for tup in res:\n",
    "            for a in lst:\n",
    "                if tup[0] == a[0] and tup[1] == a[2]:\n",
    "                    lst2.append((a[0], a[1]))\n",
    "                    \n",
    "        return lst2\n",
    "\n",
    "        \n",
    "analyzer = EmbeddingAnalyzer(loaded_embedding)"
   ]
  },
  {
   "cell_type": "code",
   "execution_count": 4,
   "id": "6fa2a1f0",
   "metadata": {},
   "outputs": [],
   "source": [
    "assert 'man' in analyzer\n",
    "assert 'woman' in analyzer\n",
    "assert 'kdjfsfhgkdsjfdh' not in analyzer\n",
    "assert len(analyzer) > 100000\n",
    "assert type(analyzer['man']) is np.ndarray\n",
    "assert np.isclose(np.sum(analyzer['man']-analyzer['man']), 0)"
   ]
  },
  {
   "cell_type": "code",
   "execution_count": 5,
   "id": "cc7ca9bc",
   "metadata": {},
   "outputs": [
    {
     "data": {
      "text/plain": [
       "0.27906597"
      ]
     },
     "execution_count": 5,
     "metadata": {},
     "output_type": "execute_result"
    }
   ],
   "source": [
    "analyzer.similarity('woman', 'carpenter')"
   ]
  },
  {
   "cell_type": "code",
   "execution_count": 6,
   "id": "43c7b3b8",
   "metadata": {},
   "outputs": [],
   "source": [
    "assert analyzer.similarity('cat', 'dog') >= analyzer.similarity('cat', 'cow')"
   ]
  },
  {
   "cell_type": "code",
   "execution_count": 7,
   "id": "ea9a2841",
   "metadata": {},
   "outputs": [
    {
     "name": "stdout",
     "output_type": "stream",
     "text": [
      "Matches (in order of similarity):\n",
      "1 queen\n",
      "2 princess\n",
      "3 regnant\n",
      "4 princesses\n",
      "5 consort\n"
     ]
    }
   ],
   "source": [
    "best_matches = analyzer.simple_analogy(('man', 'woman'), 'king', k=5)\n",
    "print(\"Matches (in order of similarity):\")\n",
    "for i, token in enumerate(best_matches):\n",
    "    print(i+1, token)\n",
    "\n",
    "assert 'queen' in analyzer.simple_analogy(('man', 'woman'), 'king', k=5)"
   ]
  },
  {
   "cell_type": "code",
   "execution_count": 8,
   "id": "e21e7fd1",
   "metadata": {},
   "outputs": [
    {
     "name": "stdout",
     "output_type": "stream",
     "text": [
      "Matches (in order of similarity):\n",
      "1 seoul\n",
      "2 pyongyang\n",
      "3 seoul–pyongyang\n",
      "4 seoul,korea\n",
      "5 busan\n"
     ]
    }
   ],
   "source": [
    "best_matches = analyzer.simple_analogy(('france', 'korea'), 'paris', k=5)\n",
    "print(\"Matches (in order of similarity):\")\n",
    "for i, token in enumerate(best_matches):\n",
    "    print(i+1, token)\n",
    "\n",
    "assert 'seoul' in analyzer.simple_analogy(('france', 'korea'), 'paris', k=5)"
   ]
  },
  {
   "cell_type": "code",
   "execution_count": 9,
   "id": "e2f17d0b",
   "metadata": {},
   "outputs": [
    {
     "name": "stdout",
     "output_type": "stream",
     "text": [
      "Matches (in order of similarity):\n",
      "1 biggest\n",
      "2 snappiest\n",
      "3 scariest\n",
      "4 dirtiest\n"
     ]
    }
   ],
   "source": [
    "# comparing adjective \n",
    "\n",
    "best_matches = analyzer.simple_analogy(('bad', 'worst'), 'big', k=5)\n",
    "print(\"Matches (in order of similarity):\")\n",
    "for i, token in enumerate(best_matches):\n",
    "    print(i+1, token)\n",
    "\n",
    "assert 'biggest' in analyzer.simple_analogy(('bad', 'worst'), 'big', k=5)"
   ]
  },
  {
   "cell_type": "code",
   "execution_count": 10,
   "id": "eced332b",
   "metadata": {},
   "outputs": [
    {
     "name": "stdout",
     "output_type": "stream",
     "text": [
      "Loaded 320 professions\n"
     ]
    }
   ],
   "source": [
    "import json\n",
    "with urlopen('https://raw.githubusercontent.com/tolga-b/debiaswe/master/data/professions.json') as remote_file:\n",
    "    professions = {title: {'definitional': defi, 'stereotypical': ster} for title, defi, ster in json.load(remote_file)}\n",
    "print(\"Loaded %i professions\" % len(professions))"
   ]
  },
  {
   "cell_type": "code",
   "execution_count": 11,
   "id": "e3361a19",
   "metadata": {},
   "outputs": [],
   "source": [
    "assert type(analyzer[['man', 'woman', 'butcher']]) is np.ndarray\n",
    "assert analyzer[['man', 'woman', 'butcher']].shape[0] == 3\n",
    "assert analyzer.projection(analyzer['man']-analyzer['woman'], analyzer['butcher']) > 0\n",
    "assert analyzer.projection(analyzer['man']-analyzer['woman'], analyzer['ballerina']) < 0"
   ]
  },
  {
   "cell_type": "code",
   "execution_count": 12,
   "id": "f61a8f6c",
   "metadata": {},
   "outputs": [],
   "source": [
    "direction = analyzer['man']-analyzer['woman']\n",
    "titles = [title for title in professions.keys() if title in analyzer]\n",
    "projection = analyzer.projection(direction, analyzer[titles])"
   ]
  },
  {
   "cell_type": "code",
   "execution_count": 13,
   "id": "7c4e2754",
   "metadata": {},
   "outputs": [
    {
     "data": {
      "text/plain": [
       "[('woman', 'man'),\n",
       " ('girl', 'boy'),\n",
       " ('she', 'he'),\n",
       " ('mother', 'father'),\n",
       " ('daughter', 'son'),\n",
       " ('gal', 'guy'),\n",
       " ('female', 'male'),\n",
       " ('her', 'his'),\n",
       " ('herself', 'himself'),\n",
       " ('Mary', 'John')]"
      ]
     },
     "execution_count": 13,
     "metadata": {},
     "output_type": "execute_result"
    }
   ],
   "source": [
    "import json\n",
    "with urlopen('https://raw.githubusercontent.com/tolga-b/debiaswe/master/data/definitional_pairs.json') as remote_file:\n",
    "    definitional_pairs = [(m, f) for m, f in json.load(remote_file)]\n",
    "definitional_pairs"
   ]
  },
  {
   "cell_type": "code",
   "execution_count": 14,
   "id": "56f34c1b",
   "metadata": {},
   "outputs": [],
   "source": [
    "direction2 = np.zeros(analyzer['man'].shape)\n",
    "for female, male in definitional_pairs:\n",
    "    direction2 += analyzer[male.lower()]\n",
    "    direction2 -= analyzer[female.lower()]\n",
    "\n",
    "projection2 = analyzer.projection(direction2, analyzer[titles])"
   ]
  },
  {
   "cell_type": "code",
   "execution_count": 15,
   "id": "80b5aea2",
   "metadata": {},
   "outputs": [
    {
     "name": "stderr",
     "output_type": "stream",
     "text": [
      "C:\\Users\\wk789\\Miniconda3\\envs\\nlp\\lib\\site-packages\\ipykernel_launcher.py:13: UserWarning: Matplotlib is currently using module://ipykernel.pylab.backend_inline, which is a non-GUI backend, so cannot show the figure.\n",
      "  del sys.path[0]\n"
     ]
    },
    {
     "data": {
      "image/png": "[encoded data removed]",
      "text/plain": [
       "<Figure size 864x360 with 2 Axes>"
      ]
     },
     "metadata": {
      "needs_background": "light"
     },
     "output_type": "display_data"
    }
   ],
   "source": [
    "import matplotlib.pyplot as plt\n",
    "import seaborn as sns\n",
    "\n",
    "fig = plt.figure(figsize=(12, 5))\n",
    "ax = fig.subplots(1, 2)\n",
    "stereotypicality = [professions[title]['stereotypical'] for title in titles]\n",
    "sns.regplot(x=projection, y=stereotypicality, ax=ax[0])\n",
    "a = sns.regplot(x=projection2, y=stereotypicality, ax=ax[1])\n",
    "ax[0].set_xlabel(\"Projection (one pair)\")\n",
    "ax[1].set_xlabel(\"Projection (several pairs)\")\n",
    "ax[0].set_ylabel(\"Human labelled stereotypicality\")\n",
    "fig.tight_layout(pad=.5)\n",
    "fig.show()"
   ]
  },
  {
   "cell_type": "code",
   "execution_count": 16,
   "id": "0f45c449",
   "metadata": {},
   "outputs": [
    {
     "name": "stderr",
     "output_type": "stream",
     "text": [
      "C:\\Users\\wk789\\Miniconda3\\envs\\nlp\\lib\\site-packages\\ipykernel_launcher.py:10: UserWarning: Matplotlib is currently using module://ipykernel.pylab.backend_inline, which is a non-GUI backend, so cannot show the figure.\n",
      "  # Remove the CWD from sys.path while we load stuff.\n"
     ]
    },
    {
     "data": {
      "image/png": "[encoded data removed]",
      "text/plain": [
       "<Figure size 864x360 with 2 Axes>"
      ]
     },
     "metadata": {
      "needs_background": "light"
     },
     "output_type": "display_data"
    }
   ],
   "source": [
    "fig = plt.figure(figsize=(12, 5))\n",
    "ax = fig.subplots(1, 2)\n",
    "definitionality = [professions[title]['definitional'] for title in titles]\n",
    "sns.regplot(x=projection, y=definitionality, ax=ax[0])\n",
    "a = sns.regplot(x=projection2, y=definitionality, ax=ax[1])\n",
    "ax[0].set_xlabel(\"Projection (one pair)\")\n",
    "ax[1].set_xlabel(\"Projection (several pairs)\")\n",
    "ax[0].set_ylabel(\"Human labelled definitional genderedness\")\n",
    "fig.tight_layout(pad=.5)\n",
    "fig.show()"
   ]
  },
  {
   "cell_type": "code",
   "execution_count": 17,
   "id": "d2715fbd",
   "metadata": {},
   "outputs": [
    {
     "data": {
      "text/plain": [
       "[('actor', 'actress')]"
      ]
     },
     "execution_count": 17,
     "metadata": {},
     "output_type": "execute_result"
    }
   ],
   "source": [
    "assert len(analyzer.analogies(analyzer['man']-analyzer['woman'], ['actor', 'actress'])) == 1\n",
    "assert type(analyzer.analogies(analyzer['man']-analyzer['woman'], ['actor', 'actress'])) == list\n",
    "assert type(analyzer.analogies(analyzer['man']-analyzer['woman'], ['actor', 'actress'])[0]) == tuple\n",
    "\n",
    "analyzer.analogies(analyzer['man']-analyzer['woman'], ['actor', 'actress'])\n",
    "    "
   ]
  },
  {
   "cell_type": "code",
   "execution_count": 18,
   "id": "f72e91fd",
   "metadata": {},
   "outputs": [
    {
     "data": {
      "text/plain": [
       "[('accountant', 'businesswoman'),\n",
       " ('actor', 'actress'),\n",
       " ('actress', 'waitress'),\n",
       " ('administrator', 'bureaucrat'),\n",
       " ('adventurer', 'protagonist'),\n",
       " ('advocate', 'campaigner'),\n",
       " ('aide', 'counselor'),\n",
       " ('alderman', 'solicitor'),\n",
       " ('alter_ego', 'fashion_designer'),\n",
       " ('ambassador', 'secretary'),\n",
       " ('analyst', 'columnist'),\n",
       " ('anthropologist', 'pediatrician'),\n",
       " ('archaeologist', 'anthropologist'),\n",
       " ('archbishop', 'parishioner'),\n",
       " ('architect', 'painter'),\n",
       " ('artist', 'singer'),\n",
       " ('artiste', 'performer'),\n",
       " ('assassin', 'bodyguard'),\n",
       " ('astronomer', 'archaeologist'),\n",
       " ('athlete', 'swimmer'),\n",
       " ('attorney', 'paralegal'),\n",
       " ('author', 'novelist'),\n",
       " ('ballerina', 'actress'),\n",
       " ('banker', 'businesswoman'),\n",
       " ('barber', 'hairdresser'),\n",
       " ('barrister', 'campaigner'),\n",
       " ('bartender', 'waitress'),\n",
       " ('biologist', 'pediatrician'),\n",
       " ('bishop', 'parishioner'),\n",
       " ('bookkeeper', 'waitress'),\n",
       " ('boss', 'bartender'),\n",
       " ('boxer', 'wrestler'),\n",
       " ('broadcaster', 'columnist'),\n",
       " ('broker', 'realtor'),\n",
       " ('businessman', 'businesswoman'),\n",
       " ('businesswoman', 'waitress'),\n",
       " ('butcher', 'hairdresser'),\n",
       " ('butler', 'baker'),\n",
       " ('cameraman', 'photojournalist'),\n",
       " ('campaigner', 'businesswoman'),\n",
       " ('captain', 'officer'),\n",
       " ('cardiologist', 'nurse'),\n",
       " ('caretaker', 'housekeeper'),\n",
       " ('cartoonist', 'novelist'),\n",
       " ('cellist', 'ballerina'),\n",
       " ('chancellor', 'secretary'),\n",
       " ('chaplain', 'lecturer'),\n",
       " ('character', 'protagonist'),\n",
       " ('chemist', 'pediatrician'),\n",
       " ('choreographer', 'actress'),\n",
       " ('cinematographer', 'actress'),\n",
       " ('cleric', 'chaplain'),\n",
       " ('clerk', 'bookkeeper'),\n",
       " ('coach', 'goalkeeper'),\n",
       " ('collector', 'curator'),\n",
       " ('colonel', 'surgeon'),\n",
       " ('columnist', 'novelist'),\n",
       " ('comedian', 'actress'),\n",
       " ('comic', 'illustrator'),\n",
       " ('commander', 'deputy'),\n",
       " ('commentator', 'columnist'),\n",
       " ('commissioner', 'secretary'),\n",
       " ('composer', 'singer'),\n",
       " ('conductor', 'cellist'),\n",
       " ('confesses', 'waitress'),\n",
       " ('congressman', 'senator'),\n",
       " ('constable', 'detective'),\n",
       " ('consultant', 'businesswoman'),\n",
       " ('cop', 'detective'),\n",
       " ('correspondent', 'photojournalist'),\n",
       " ('councilman', 'realtor'),\n",
       " ('councilor', 'secretary'),\n",
       " ('counselor', 'therapist'),\n",
       " ('critic', 'novelist'),\n",
       " ('crooner', 'singer'),\n",
       " ('curator', 'librarian'),\n",
       " ('dad', 'trucker'),\n",
       " ('dancer', 'actress'),\n",
       " ('dean', 'professor'),\n",
       " ('dentist', 'nurse'),\n",
       " ('deputy', 'secretary'),\n",
       " ('dermatologist', 'nurse'),\n",
       " ('detective', 'receptionist'),\n",
       " ('diplomat', 'socialite'),\n",
       " ('director', 'choreographer'),\n",
       " ('drummer', 'vocalist'),\n",
       " ('economist', 'anthropologist'),\n",
       " ('editor', 'columnist'),\n",
       " ('educator', 'businesswoman'),\n",
       " ('electrician', 'homemaker'),\n",
       " ('employee', 'receptionist'),\n",
       " ('entertainer', 'actress'),\n",
       " ('entrepreneur', 'businesswoman'),\n",
       " ('environmentalist', 'businesswoman'),\n",
       " ('envoy', 'ambassador'),\n",
       " ('epidemiologist', 'pediatrician'),\n",
       " ('evangelist', 'parishioner'),\n",
       " ('farmer', 'housewife'),\n",
       " ('filmmaker', 'actress'),\n",
       " ('financier', 'businesswoman'),\n",
       " ('firefighter', 'welder'),\n",
       " ('fireman', 'firefighter'),\n",
       " ('fisherman', 'sailor'),\n",
       " ('footballer', 'swimmer'),\n",
       " ('foreman', 'bookkeeper'),\n",
       " ('gangster', 'bartender'),\n",
       " ('gardener', 'housekeeper'),\n",
       " ('geologist', 'anthropologist'),\n",
       " ('goalkeeper', 'understudy'),\n",
       " ('guitarist', 'vocalist'),\n",
       " ('hairdresser', 'waitress'),\n",
       " ('handyman', 'waitress'),\n",
       " ('headmaster', 'teacher'),\n",
       " ('historian', 'novelist'),\n",
       " ('hitman', 'bartender'),\n",
       " ('homemaker', 'waitress'),\n",
       " ('housekeeper', 'maid'),\n",
       " ('housewife', 'maid'),\n",
       " ('illustrator', 'novelist'),\n",
       " ('industrialist', 'businesswoman'),\n",
       " ('infielder', 'ballplayer'),\n",
       " ('inspector', 'prosecutor'),\n",
       " ('instructor', 'teacher'),\n",
       " ('inventor', 'philanthropist'),\n",
       " ('janitor', 'waitress'),\n",
       " ('jeweler', 'shopkeeper'),\n",
       " ('journalist', 'actress'),\n",
       " ('judge', 'prosecutor'),\n",
       " ('jurist', 'sociologist'),\n",
       " ('laborer', 'housewife'),\n",
       " ('landlord', 'shopkeeper'),\n",
       " ('lawmaker', 'prosecutor'),\n",
       " ('lawyer', 'businesswoman'),\n",
       " ('lecturer', 'librarian'),\n",
       " ('legislator', 'businesswoman'),\n",
       " ('lieutenant', 'superintendent'),\n",
       " ('lyricist', 'actress'),\n",
       " ('maestro', 'violinist'),\n",
       " ('magician', 'performer'),\n",
       " ('magistrate', 'servant'),\n",
       " ('manager', 'caretaker'),\n",
       " ('marshal', 'officer'),\n",
       " ('mathematician', 'pediatrician'),\n",
       " ('mechanic', 'welder'),\n",
       " ('medic', 'nurse'),\n",
       " ('midfielder', 'goalkeeper'),\n",
       " ('minister', 'secretary'),\n",
       " ('missionary', 'parishioner'),\n",
       " ('mobster', 'bartender'),\n",
       " ('monk', 'nun'),\n",
       " ('musician', 'actress'),\n",
       " ('nanny', 'maid'),\n",
       " ('narrator', 'protagonist'),\n",
       " ('naturalist', 'anthropologist'),\n",
       " ('negotiator', 'mediator'),\n",
       " ('neurologist', 'pediatrician'),\n",
       " ('neurosurgeon', 'nurse'),\n",
       " ('novelist', 'actress'),\n",
       " ('nurse', 'maid'),\n",
       " ('officer', 'serviceman'),\n",
       " ('organist', 'cellist'),\n",
       " ('painter', 'novelist'),\n",
       " ('parishioner', 'housekeeper'),\n",
       " ('parliamentarian', 'campaigner'),\n",
       " ('pastor', 'parishioner'),\n",
       " ('pathologist', 'nurse'),\n",
       " ('patrolman', 'bartender'),\n",
       " ('pediatrician', 'nurse'),\n",
       " ('performer', 'actress'),\n",
       " ('pharmacist', 'nurse'),\n",
       " ('philanthropist', 'businesswoman'),\n",
       " ('philosopher', 'novelist'),\n",
       " ('photographer', 'stylist'),\n",
       " ('photojournalist', 'novelist'),\n",
       " ('physician', 'nurse'),\n",
       " ('physicist', 'pediatrician'),\n",
       " ('pianist', 'actress'),\n",
       " ('playwright', 'actress'),\n",
       " ('plumber', 'hairdresser'),\n",
       " ('poet', 'singer'),\n",
       " ('policeman', 'waitress'),\n",
       " ('politician', 'businesswoman'),\n",
       " ('preacher', 'parishioner'),\n",
       " ('president', 'secretary'),\n",
       " ('priest', 'nun'),\n",
       " ('professor', 'pediatrician'),\n",
       " ('proprietor', 'shopkeeper'),\n",
       " ('protege', 'bodyguard'),\n",
       " ('provost', 'chaplain'),\n",
       " ('psychiatrist', 'nurse'),\n",
       " ('psychologist', 'therapist'),\n",
       " ('publicist', 'businesswoman'),\n",
       " ('pundit', 'columnist'),\n",
       " ('radiologist', 'nurse'),\n",
       " ('ranger', 'trooper'),\n",
       " ('realtor', 'businesswoman'),\n",
       " ('receptionist', 'waitress'),\n",
       " ('researcher', 'pediatrician'),\n",
       " ('restaurateur', 'waitress'),\n",
       " ('salesman', 'waitress'),\n",
       " ('saxophonist', 'singer'),\n",
       " ('scholar', 'librarian'),\n",
       " ('scientist', 'pediatrician'),\n",
       " ('screenwriter', 'actress'),\n",
       " ('sculptor', 'artist'),\n",
       " ('sergeant', 'medic'),\n",
       " ('servant', 'maid'),\n",
       " ('serviceman', 'medic'),\n",
       " ('shopkeeper', 'waitress'),\n",
       " ('singer', 'actress'),\n",
       " ('socialite', 'waitress'),\n",
       " ('sociologist', 'pediatrician'),\n",
       " ('soldier', 'servant'),\n",
       " ('solicitor', 'paralegal'),\n",
       " ('soloist', 'ballerina'),\n",
       " ('sportsman', 'athlete'),\n",
       " ('sportswriter', 'columnist'),\n",
       " ('statesman', 'journalist'),\n",
       " ('steward', 'bureaucrat'),\n",
       " ('stockbroker', 'businesswoman'),\n",
       " ('strategist', 'planner'),\n",
       " ('student', 'teacher'),\n",
       " ('stylist', 'actress'),\n",
       " ('superintendent', 'principal'),\n",
       " ('surgeon', 'nurse'),\n",
       " ('surveyor', 'solicitor'),\n",
       " ('teacher', 'homemaker'),\n",
       " ('technician', 'nurse'),\n",
       " ('teenager', 'waitress'),\n",
       " ('therapist', 'nurse'),\n",
       " ('trader', 'shopkeeper'),\n",
       " ('treasurer', 'secretary'),\n",
       " ('trooper', 'medic'),\n",
       " ('trucker', 'cabbie'),\n",
       " ('trumpeter', 'vocalist'),\n",
       " ('tutor', 'teacher'),\n",
       " ('tycoon', 'businesswoman'),\n",
       " ('undersecretary', 'secretary'),\n",
       " ('vice_chancellor', 'alter_ego'),\n",
       " ('violinist', 'actress'),\n",
       " ('vocalist', 'actress'),\n",
       " ('waiter', 'waitress'),\n",
       " ('waitress', 'maid'),\n",
       " ('warden', 'chaplain'),\n",
       " ('welder', 'worker'),\n",
       " ('worker', 'housewife'),\n",
       " ('wrestler', 'swimmer'),\n",
       " ('writer', 'novelist')]"
      ]
     },
     "execution_count": 18,
     "metadata": {},
     "output_type": "execute_result"
    }
   ],
   "source": [
    "analyzer.analogies(analogy_direction=direction2, tokens=titles)"
   ]
  }
 ],
 "metadata": {
  "kernelspec": {
   "display_name": "Python 3",
   "language": "python",
   "name": "python3"
  },
  "language_info": {
   "codemirror_mode": {
    "name": "ipython",
    "version": 3
   },
   "file_extension": ".py",
   "mimetype": "text/x-python",
   "name": "python",
   "nbconvert_exporter": "python",
   "pygments_lexer": "ipython3",
   "version": "3.7.9"
  }
 },
 "nbformat": 4,
 "nbformat_minor": 5
}
